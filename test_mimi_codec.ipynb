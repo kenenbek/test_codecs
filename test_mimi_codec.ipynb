{
 "cells": [
  {
   "cell_type": "code",
   "execution_count": 1,
   "id": "8b73159d-1942-4472-a5e0-d41540b48203",
   "metadata": {},
   "outputs": [],
   "source": [
    "from datasets import load_dataset, Audio\n",
    "from transformers import MimiModel, AutoFeatureExtractor\n",
    "\n",
    "import torch\n",
    "from snac import SNAC\n",
    "import torchaudio\n",
    "import soundfile as sf"
   ]
  },
  {
   "cell_type": "code",
   "execution_count": 20,
   "id": "8d8b3339-4f72-4154-a68c-6d85f02e5696",
   "metadata": {},
   "outputs": [],
   "source": [
    "filepath = \"00001_001_sales_000_1.wav\"\n",
    "target_sample_rate = 24000\n",
    "\n",
    "# Load the audio file\n",
    "waveform, sample_rate = torchaudio.load(filepath)\n",
    "\n",
    "# Resample if necessary\n",
    "if sample_rate != target_sample_rate:\n",
    "    resampler = torchaudio.transforms.Resample(orig_freq=sample_rate, new_freq=target_sample_rate)\n",
    "    waveform = resampler(waveform)\n",
    "\n",
    "# Ensure it's mono\n",
    "if waveform.shape[0] > 1:\n",
    "    waveform = torch.mean(waveform, dim=0, keepdim=True)\n",
    "\n",
    "audio = waveform.squeeze(0)"
   ]
  },
  {
   "cell_type": "code",
   "execution_count": 22,
   "id": "3e071740-73ed-431e-96e9-21b6c433968a",
   "metadata": {},
   "outputs": [
    {
     "data": {
      "text/plain": [
       "torch.Size([334383])"
      ]
     },
     "execution_count": 22,
     "metadata": {},
     "output_type": "execute_result"
    }
   ],
   "source": [
    "audio.shape"
   ]
  },
  {
   "cell_type": "code",
   "execution_count": 23,
   "id": "df336d00-3cfa-4d89-a896-ede0ae69ab84",
   "metadata": {},
   "outputs": [],
   "source": [
    "model = MimiModel.from_pretrained(\"kyutai/mimi\")\n",
    "feature_extractor = AutoFeatureExtractor.from_pretrained(\"kyutai/mimi\")"
   ]
  },
  {
   "cell_type": "code",
   "execution_count": 24,
   "id": "732b4ff6-8297-4537-baa4-c0780b2e33cd",
   "metadata": {},
   "outputs": [
    {
     "data": {
      "text/plain": [
       "24000"
      ]
     },
     "execution_count": 24,
     "metadata": {},
     "output_type": "execute_result"
    }
   ],
   "source": [
    "feature_extractor.sampling_rate"
   ]
  },
  {
   "cell_type": "code",
   "execution_count": 25,
   "id": "c8a67b36-d400-41ef-b30a-b8119dd0e3d0",
   "metadata": {},
   "outputs": [],
   "source": [
    "# pre-process the inputs\n",
    "inputs = feature_extractor(raw_audio=audio, sampling_rate=feature_extractor.sampling_rate, return_tensors=\"pt\")"
   ]
  },
  {
   "cell_type": "code",
   "execution_count": 33,
   "id": "b193048e-2ed3-4fe4-80fd-7ee3851d7458",
   "metadata": {},
   "outputs": [
    {
     "data": {
      "text/plain": [
       "tensor([ 0.0000,  0.0000,  0.0000,  ..., -0.0017, -0.0021, -0.0006])"
      ]
     },
     "execution_count": 33,
     "metadata": {},
     "output_type": "execute_result"
    }
   ],
   "source": [
    "audio"
   ]
  },
  {
   "cell_type": "code",
   "execution_count": 32,
   "id": "e87c654c-4056-4254-9773-69b3f36f2743",
   "metadata": {},
   "outputs": [
    {
     "data": {
      "text/plain": [
       "tensor([ 0.0000,  0.0000,  0.0000,  ..., -0.0017, -0.0021, -0.0006])"
      ]
     },
     "execution_count": 32,
     "metadata": {},
     "output_type": "execute_result"
    }
   ],
   "source": [
    "inputs[\"input_values\"][0][0]"
   ]
  },
  {
   "cell_type": "code",
   "execution_count": 29,
   "id": "cd829cb8-9197-4537-b998-ad367fc98368",
   "metadata": {},
   "outputs": [],
   "source": [
    "# explicitly encode then decode the audio inputs\n",
    "encoder_outputs = model.encode(inputs[\"input_values\"])\n",
    "audio_values = model.decode(encoder_outputs.audio_codes)[0]"
   ]
  },
  {
   "cell_type": "code",
   "execution_count": 31,
   "id": "8a3af79e-122d-4672-abc0-ee03f536c64a",
   "metadata": {},
   "outputs": [
    {
     "name": "stdout",
     "output_type": "stream",
     "text": [
      "Saving reconstructed audio to: mimi.wav\n",
      "Done.\n"
     ]
    }
   ],
   "source": [
    "output_filepath = \"mimi.wav\"\n",
    "# --- 4. Save the Reconstructed Audio ---\n",
    "print(f\"Saving reconstructed audio to: {output_filepath}\")\n",
    "audio_to_save = audio_values.squeeze().cpu().detach().numpy()\n",
    "sf.write(output_filepath, audio_to_save, target_sample_rate)\n",
    "print(\"Done.\")"
   ]
  },
  {
   "cell_type": "code",
   "execution_count": null,
   "id": "96053e1b-4236-4676-ab20-b5410e476fd8",
   "metadata": {},
   "outputs": [],
   "source": []
  }
 ],
 "metadata": {
  "kernelspec": {
   "display_name": "Python 3 (ipykernel)",
   "language": "python",
   "name": "python3"
  },
  "language_info": {
   "codemirror_mode": {
    "name": "ipython",
    "version": 3
   },
   "file_extension": ".py",
   "mimetype": "text/x-python",
   "name": "python",
   "nbconvert_exporter": "python",
   "pygments_lexer": "ipython3",
   "version": "3.12.11"
  }
 },
 "nbformat": 4,
 "nbformat_minor": 5
}
