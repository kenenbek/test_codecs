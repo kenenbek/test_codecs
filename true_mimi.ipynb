{
 "cells": [
  {
   "cell_type": "code",
   "execution_count": 1,
   "id": "d662ea48-d977-4d23-9230-d6059acffff6",
   "metadata": {},
   "outputs": [],
   "source": [
    "from datasets import load_dataset, Audio\n",
    "from transformers import MimiModel, AutoFeatureExtractor\n",
    "import torch"
   ]
  },
  {
   "cell_type": "code",
   "execution_count": 2,
   "id": "fd73cdd7-56c3-4e54-a0a5-4e5cfa2657f3",
   "metadata": {},
   "outputs": [],
   "source": [
    "librispeech_dummy = load_dataset(\"hf-internal-testing/librispeech_asr_dummy\", \"clean\", split=\"validation\")"
   ]
  },
  {
   "cell_type": "code",
   "execution_count": 3,
   "id": "6044a0f7-6540-4c74-ae8b-c9257655b56c",
   "metadata": {},
   "outputs": [],
   "source": [
    "model = MimiModel.from_pretrained(\"kyutai/mimi\")\n",
    "feature_extractor = AutoFeatureExtractor.from_pretrained(\"kyutai/mimi\")"
   ]
  },
  {
   "cell_type": "code",
   "execution_count": 4,
   "id": "9e6e1546-0199-4703-a586-94b94ad6d662",
   "metadata": {},
   "outputs": [],
   "source": [
    "# cast the audio data to the correct sampling rate for the model\n",
    "librispeech_dummy = librispeech_dummy.cast_column(\"audio\", Audio(sampling_rate=feature_extractor.sampling_rate))\n",
    "audio_sample = librispeech_dummy[0][\"audio\"][\"array\"]"
   ]
  },
  {
   "cell_type": "code",
   "execution_count": 5,
   "id": "a6cacd60-b53c-45b8-bca0-7f31996e5538",
   "metadata": {},
   "outputs": [],
   "source": [
    "# pre-process the inputs\n",
    "inputs = feature_extractor(raw_audio=audio_sample, sampling_rate=feature_extractor.sampling_rate, return_tensors=\"pt\")\n"
   ]
  },
  {
   "cell_type": "code",
   "execution_count": 6,
   "id": "d52ce17e-4f4f-4cec-9045-693c92e4d454",
   "metadata": {},
   "outputs": [],
   "source": [
    "# explicitly encode then decode the audio inputs\n",
    "encoder_outputs = model.encode(inputs[\"input_values\"])\n",
    "audio_values = model.decode(encoder_outputs.audio_codes)[0]"
   ]
  },
  {
   "cell_type": "code",
   "execution_count": 7,
   "id": "93b805d2-419a-4af4-9026-b6ae7cb03a26",
   "metadata": {},
   "outputs": [],
   "source": [
    "# or the equivalent with a forward pass\n",
    "audio_values = model(inputs[\"input_values\"]).audio_values"
   ]
  },
  {
   "cell_type": "code",
   "execution_count": 8,
   "id": "0c67c1cf-d759-4b78-ae0a-eb64e2ad2154",
   "metadata": {},
   "outputs": [
    {
     "data": {
      "text/plain": [
       "True"
      ]
     },
     "execution_count": 8,
     "metadata": {},
     "output_type": "execute_result"
    }
   ],
   "source": [
    "torch.equal(torch.from_numpy(audio_sample), inputs[\"input_values\"][0][0])"
   ]
  },
  {
   "cell_type": "code",
   "execution_count": 9,
   "id": "734c463d-cedc-4044-83f8-918c32f0d2e5",
   "metadata": {},
   "outputs": [
    {
     "data": {
      "text/plain": [
       "torch.Size([1, 1, 140520])"
      ]
     },
     "execution_count": 9,
     "metadata": {},
     "output_type": "execute_result"
    }
   ],
   "source": [
    "inputs[\"input_values\"].shape"
   ]
  },
  {
   "cell_type": "code",
   "execution_count": 10,
   "id": "f3ca30f7-f97e-4a0f-9b8a-5d6335611fb6",
   "metadata": {},
   "outputs": [
    {
     "data": {
      "text/plain": [
       "torch.Size([1, 1, 140520])"
      ]
     },
     "execution_count": 10,
     "metadata": {},
     "output_type": "execute_result"
    }
   ],
   "source": [
    "inputs[\"input_values\"].shape"
   ]
  },
  {
   "cell_type": "code",
   "execution_count": 11,
   "id": "24d5ce96-c933-46c3-a4d9-f19e0d81415e",
   "metadata": {},
   "outputs": [
    {
     "data": {
      "text/plain": [
       "torch.Size([1, 32, 74])"
      ]
     },
     "execution_count": 11,
     "metadata": {},
     "output_type": "execute_result"
    }
   ],
   "source": [
    "encoder_outputs.audio_codes.shape"
   ]
  },
  {
   "cell_type": "code",
   "execution_count": 15,
   "id": "224e5708-13d8-441b-bcf9-809330fe3535",
   "metadata": {},
   "outputs": [
    {
     "data": {
      "text/plain": [
       "(140520,)"
      ]
     },
     "execution_count": 15,
     "metadata": {},
     "output_type": "execute_result"
    }
   ],
   "source": [
    "audio_sample.shape"
   ]
  },
  {
   "cell_type": "code",
   "execution_count": null,
   "id": "a2df5eb3-8eb9-4a21-afd6-ba099366f4cb",
   "metadata": {},
   "outputs": [],
   "source": [
    "for "
   ]
  }
 ],
 "metadata": {
  "kernelspec": {
   "display_name": "Python 3 (ipykernel)",
   "language": "python",
   "name": "python3"
  },
  "language_info": {
   "codemirror_mode": {
    "name": "ipython",
    "version": 3
   },
   "file_extension": ".py",
   "mimetype": "text/x-python",
   "name": "python",
   "nbconvert_exporter": "python",
   "pygments_lexer": "ipython3",
   "version": "3.12.12"
  }
 },
 "nbformat": 4,
 "nbformat_minor": 5
}
